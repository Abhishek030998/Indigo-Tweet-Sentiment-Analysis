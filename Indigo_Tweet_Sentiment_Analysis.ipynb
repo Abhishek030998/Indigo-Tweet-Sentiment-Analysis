{
 "cells": [
  {
   "cell_type": "markdown",
   "id": "4df7fe15-172b-40de-9ebe-fa800ecb1699",
   "metadata": {},
   "source": [
    "# Sentiment Analysis"
   ]
  },
  {
   "cell_type": "code",
   "execution_count": 1,
   "id": "4f189526-5795-42b8-8d5d-0ced1a4a1081",
   "metadata": {},
   "outputs": [],
   "source": [
    "import pandas as pd \n",
    "PositiveWords=pd.read_table('Positive_words.txt',encoding='latin-1')\n",
    "NegativeWords=pd.read_table('Negative_words.txt',encoding='latin-1')"
   ]
  },
  {
   "cell_type": "code",
   "execution_count": 2,
   "id": "67a218d5-d569-49dd-9566-13bc3fe354f7",
   "metadata": {},
   "outputs": [
    {
     "data": {
      "text/html": [
       "<div>\n",
       "<style scoped>\n",
       "    .dataframe tbody tr th:only-of-type {\n",
       "        vertical-align: middle;\n",
       "    }\n",
       "\n",
       "    .dataframe tbody tr th {\n",
       "        vertical-align: top;\n",
       "    }\n",
       "\n",
       "    .dataframe thead th {\n",
       "        text-align: right;\n",
       "    }\n",
       "</style>\n",
       "<table border=\"1\" class=\"dataframe\">\n",
       "  <thead>\n",
       "    <tr style=\"text-align: right;\">\n",
       "      <th></th>\n",
       "      <th>PositiveWords</th>\n",
       "    </tr>\n",
       "  </thead>\n",
       "  <tbody>\n",
       "    <tr>\n",
       "      <th>0</th>\n",
       "      <td>abound</td>\n",
       "    </tr>\n",
       "    <tr>\n",
       "      <th>1</th>\n",
       "      <td>abounds</td>\n",
       "    </tr>\n",
       "    <tr>\n",
       "      <th>2</th>\n",
       "      <td>abundance</td>\n",
       "    </tr>\n",
       "    <tr>\n",
       "      <th>3</th>\n",
       "      <td>abundant</td>\n",
       "    </tr>\n",
       "    <tr>\n",
       "      <th>4</th>\n",
       "      <td>accessable</td>\n",
       "    </tr>\n",
       "  </tbody>\n",
       "</table>\n",
       "</div>"
      ],
      "text/plain": [
       "  PositiveWords\n",
       "0        abound\n",
       "1       abounds\n",
       "2     abundance\n",
       "3      abundant\n",
       "4    accessable"
      ]
     },
     "execution_count": 2,
     "metadata": {},
     "output_type": "execute_result"
    }
   ],
   "source": [
    "PositiveWords.head()"
   ]
  },
  {
   "cell_type": "code",
   "execution_count": 3,
   "id": "7d2d1b4c-7df1-4f11-8211-2ea561aa8eb1",
   "metadata": {},
   "outputs": [
    {
     "data": {
      "text/html": [
       "<div>\n",
       "<style scoped>\n",
       "    .dataframe tbody tr th:only-of-type {\n",
       "        vertical-align: middle;\n",
       "    }\n",
       "\n",
       "    .dataframe tbody tr th {\n",
       "        vertical-align: top;\n",
       "    }\n",
       "\n",
       "    .dataframe thead th {\n",
       "        text-align: right;\n",
       "    }\n",
       "</style>\n",
       "<table border=\"1\" class=\"dataframe\">\n",
       "  <thead>\n",
       "    <tr style=\"text-align: right;\">\n",
       "      <th></th>\n",
       "      <th>NegativeWords</th>\n",
       "    </tr>\n",
       "  </thead>\n",
       "  <tbody>\n",
       "    <tr>\n",
       "      <th>0</th>\n",
       "      <td>2-faced</td>\n",
       "    </tr>\n",
       "    <tr>\n",
       "      <th>1</th>\n",
       "      <td>2-faces</td>\n",
       "    </tr>\n",
       "    <tr>\n",
       "      <th>2</th>\n",
       "      <td>abnormal</td>\n",
       "    </tr>\n",
       "    <tr>\n",
       "      <th>3</th>\n",
       "      <td>abolish</td>\n",
       "    </tr>\n",
       "    <tr>\n",
       "      <th>4</th>\n",
       "      <td>abominable</td>\n",
       "    </tr>\n",
       "  </tbody>\n",
       "</table>\n",
       "</div>"
      ],
      "text/plain": [
       "  NegativeWords\n",
       "0       2-faced\n",
       "1       2-faces\n",
       "2      abnormal\n",
       "3       abolish\n",
       "4    abominable"
      ]
     },
     "execution_count": 3,
     "metadata": {},
     "output_type": "execute_result"
    }
   ],
   "source": [
    "NegativeWords.head()"
   ]
  },
  {
   "cell_type": "markdown",
   "id": "49347e47-4935-4f65-8fb7-895373c77955",
   "metadata": {},
   "source": [
    "### Defining a Sentiment Score function using Bag of words"
   ]
  },
  {
   "cell_type": "code",
   "execution_count": 4,
   "id": "64a9c6e1-db72-4db2-a470-fbd5f56307b5",
   "metadata": {},
   "outputs": [],
   "source": [
    "# Defining a function to take a sentence as input and provide a sentiment fo it.\n",
    "def ComputeSentimentScore(inputSentence):\n",
    "    import re \n",
    "    \n",
    "    PositiveScore=0\n",
    "    NegativeScore=0\n",
    "    OverallSentiment=''\n",
    "    \n",
    "    # converting every word in lowercase\n",
    "    newSentence=inputSentence.lower()\n",
    "    \n",
    "    # Removing everything which is not alphabets\n",
    "    WordList= re.sub(r'[^a-z A-Z]',r'',newSentence)\n",
    "    \n",
    "     # Splitting the sentence into list of words\n",
    "    WordList=WordList.split()\n",
    "    \n",
    "    # Iterate every word and check if it is present in the positive or negative word list\n",
    "    for newWord in WordList:\n",
    "        #print(newWord)\n",
    "        if (newWord in NegativeWords.values):\n",
    "            NegativeScore+=1\n",
    "        if (newWord in PositiveWords.values):\n",
    "            PositiveScore+=1\n",
    "            \n",
    "        \n",
    "        \n",
    "            \n",
    "            \n",
    "            \n",
    "            \n",
    "     \n",
    "    if((PositiveScore-NegativeScore) > 0):\n",
    "        OverallSentiment='Positive'\n",
    "    \n",
    "    elif((PositiveScore-NegativeScore) == 0):\n",
    "        OverallSentiment='Neutral'\n",
    "    \n",
    "    else:\n",
    "        OverallSentiment='Negative'\n",
    "        \n",
    "    return(OverallSentiment)"
   ]
  },
  {
   "cell_type": "markdown",
   "id": "f0f1db50-5c99-4e36-ac57-62a93f584f0f",
   "metadata": {},
   "source": [
    "### Calling the sentiment score function for random Sentence \n"
   ]
  },
  {
   "cell_type": "code",
   "execution_count": 5,
   "id": "c2fb4df2-83a1-4bfc-b3d4-676a0216554d",
   "metadata": {},
   "outputs": [
    {
     "data": {
      "text/plain": [
       "'Positive'"
      ]
     },
     "execution_count": 5,
     "metadata": {},
     "output_type": "execute_result"
    }
   ],
   "source": [
    "RandomSentence='i love you abhishek'\n",
    "ComputeSentimentScore(RandomSentence)\n"
   ]
  },
  {
   "cell_type": "code",
   "execution_count": 6,
   "id": "ecc7388e-da3c-41e6-9932-890b18fa888c",
   "metadata": {},
   "outputs": [
    {
     "name": "stdout",
     "output_type": "stream",
     "text": [
      "(1077, 1)\n"
     ]
    },
    {
     "data": {
      "text/html": [
       "<div>\n",
       "<style scoped>\n",
       "    .dataframe tbody tr th:only-of-type {\n",
       "        vertical-align: middle;\n",
       "    }\n",
       "\n",
       "    .dataframe tbody tr th {\n",
       "        vertical-align: top;\n",
       "    }\n",
       "\n",
       "    .dataframe thead th {\n",
       "        text-align: right;\n",
       "    }\n",
       "</style>\n",
       "<table border=\"1\" class=\"dataframe\">\n",
       "  <thead>\n",
       "    <tr style=\"text-align: right;\">\n",
       "      <th></th>\n",
       "      <th>Tweets</th>\n",
       "    </tr>\n",
       "  </thead>\n",
       "  <tbody>\n",
       "    <tr>\n",
       "      <th>0</th>\n",
       "      <td>Hackers galore Also being sued for passed deb...</td>\n",
       "    </tr>\n",
       "    <tr>\n",
       "      <th>1</th>\n",
       "      <td>Hackers galore Also being sued for passed deb...</td>\n",
       "    </tr>\n",
       "    <tr>\n",
       "      <th>2</th>\n",
       "      <td>London England UK  Come rock with ya girl Fri...</td>\n",
       "    </tr>\n",
       "    <tr>\n",
       "      <th>3</th>\n",
       "      <td>NewsAlert  BengaluruVijaywada Indigo flight 6E...</td>\n",
       "    </tr>\n",
       "    <tr>\n",
       "      <th>4</th>\n",
       "      <td>Hackers galore Also being sued for passed debt...</td>\n",
       "    </tr>\n",
       "  </tbody>\n",
       "</table>\n",
       "</div>"
      ],
      "text/plain": [
       "                                              Tweets\n",
       "0   Hackers galore Also being sued for passed deb...\n",
       "1   Hackers galore Also being sued for passed deb...\n",
       "2   London England UK  Come rock with ya girl Fri...\n",
       "3  NewsAlert  BengaluruVijaywada Indigo flight 6E...\n",
       "4  Hackers galore Also being sued for passed debt..."
      ]
     },
     "execution_count": 6,
     "metadata": {},
     "output_type": "execute_result"
    }
   ],
   "source": [
    "IndigoTweets=pd.read_csv('Indigo Tweets.csv', encoding='latin')\n",
    "print(IndigoTweets.shape)\n",
    "IndigoTweets.head()"
   ]
  },
  {
   "cell_type": "markdown",
   "id": "af78f706-243f-42af-a66c-3b57cc8512af",
   "metadata": {},
   "source": [
    "### Calling the sentiment score function for a column in dataframe"
   ]
  },
  {
   "cell_type": "code",
   "execution_count": 7,
   "id": "0a64a815-4ed5-4c33-9b46-d6bab68acbd5",
   "metadata": {},
   "outputs": [
    {
     "name": "stdout",
     "output_type": "stream",
     "text": [
      "(1077, 1)\n"
     ]
    },
    {
     "data": {
      "text/html": [
       "<div>\n",
       "<style scoped>\n",
       "    .dataframe tbody tr th:only-of-type {\n",
       "        vertical-align: middle;\n",
       "    }\n",
       "\n",
       "    .dataframe tbody tr th {\n",
       "        vertical-align: top;\n",
       "    }\n",
       "\n",
       "    .dataframe thead th {\n",
       "        text-align: right;\n",
       "    }\n",
       "</style>\n",
       "<table border=\"1\" class=\"dataframe\">\n",
       "  <thead>\n",
       "    <tr style=\"text-align: right;\">\n",
       "      <th></th>\n",
       "      <th>Tweets</th>\n",
       "    </tr>\n",
       "  </thead>\n",
       "  <tbody>\n",
       "    <tr>\n",
       "      <th>0</th>\n",
       "      <td>Hackers galore Also being sued for passed deb...</td>\n",
       "    </tr>\n",
       "    <tr>\n",
       "      <th>1</th>\n",
       "      <td>Hackers galore Also being sued for passed deb...</td>\n",
       "    </tr>\n",
       "    <tr>\n",
       "      <th>2</th>\n",
       "      <td>London England UK  Come rock with ya girl Fri...</td>\n",
       "    </tr>\n",
       "    <tr>\n",
       "      <th>3</th>\n",
       "      <td>NewsAlert  BengaluruVijaywada Indigo flight 6E...</td>\n",
       "    </tr>\n",
       "    <tr>\n",
       "      <th>4</th>\n",
       "      <td>Hackers galore Also being sued for passed debt...</td>\n",
       "    </tr>\n",
       "  </tbody>\n",
       "</table>\n",
       "</div>"
      ],
      "text/plain": [
       "                                              Tweets\n",
       "0   Hackers galore Also being sued for passed deb...\n",
       "1   Hackers galore Also being sued for passed deb...\n",
       "2   London England UK  Come rock with ya girl Fri...\n",
       "3  NewsAlert  BengaluruVijaywada Indigo flight 6E...\n",
       "4  Hackers galore Also being sued for passed debt..."
      ]
     },
     "execution_count": 7,
     "metadata": {},
     "output_type": "execute_result"
    }
   ],
   "source": [
    "IndigoTweets=pd.read_csv('Indigo Tweets.csv', encoding='latin')\n",
    "print(IndigoTweets.shape)\n",
    "IndigoTweets.head()"
   ]
  },
  {
   "cell_type": "code",
   "execution_count": 8,
   "id": "f68a563e-8c2e-445c-ada7-7c634176743a",
   "metadata": {},
   "outputs": [
    {
     "data": {
      "text/html": [
       "<div>\n",
       "<style scoped>\n",
       "    .dataframe tbody tr th:only-of-type {\n",
       "        vertical-align: middle;\n",
       "    }\n",
       "\n",
       "    .dataframe tbody tr th {\n",
       "        vertical-align: top;\n",
       "    }\n",
       "\n",
       "    .dataframe thead th {\n",
       "        text-align: right;\n",
       "    }\n",
       "</style>\n",
       "<table border=\"1\" class=\"dataframe\">\n",
       "  <thead>\n",
       "    <tr style=\"text-align: right;\">\n",
       "      <th></th>\n",
       "      <th>Tweets</th>\n",
       "      <th>Sentiment</th>\n",
       "    </tr>\n",
       "  </thead>\n",
       "  <tbody>\n",
       "    <tr>\n",
       "      <th>0</th>\n",
       "      <td>Hackers galore Also being sued for passed deb...</td>\n",
       "      <td>Neutral</td>\n",
       "    </tr>\n",
       "    <tr>\n",
       "      <th>1</th>\n",
       "      <td>Hackers galore Also being sued for passed deb...</td>\n",
       "      <td>Neutral</td>\n",
       "    </tr>\n",
       "    <tr>\n",
       "      <th>2</th>\n",
       "      <td>London England UK  Come rock with ya girl Fri...</td>\n",
       "      <td>Neutral</td>\n",
       "    </tr>\n",
       "    <tr>\n",
       "      <th>3</th>\n",
       "      <td>NewsAlert  BengaluruVijaywada Indigo flight 6E...</td>\n",
       "      <td>Neutral</td>\n",
       "    </tr>\n",
       "    <tr>\n",
       "      <th>4</th>\n",
       "      <td>Hackers galore Also being sued for passed debt...</td>\n",
       "      <td>Neutral</td>\n",
       "    </tr>\n",
       "  </tbody>\n",
       "</table>\n",
       "</div>"
      ],
      "text/plain": [
       "                                              Tweets Sentiment\n",
       "0   Hackers galore Also being sued for passed deb...   Neutral\n",
       "1   Hackers galore Also being sued for passed deb...   Neutral\n",
       "2   London England UK  Come rock with ya girl Fri...   Neutral\n",
       "3  NewsAlert  BengaluruVijaywada Indigo flight 6E...   Neutral\n",
       "4  Hackers galore Also being sued for passed debt...   Neutral"
      ]
     },
     "execution_count": 8,
     "metadata": {},
     "output_type": "execute_result"
    }
   ],
   "source": [
    "# Calling sentiment score function for every tweet\n",
    "IndigoTweets['Sentiment']=IndigoTweets['Tweets'].apply(ComputeSentimentScore)\n",
    "IndigoTweets.head()"
   ]
  },
  {
   "cell_type": "code",
   "execution_count": 11,
   "id": "d3de6a63-62b8-4245-9601-651393a33605",
   "metadata": {},
   "outputs": [
    {
     "data": {
      "text/plain": [
       "<AxesSubplot:ylabel='None'>"
      ]
     },
     "execution_count": 11,
     "metadata": {},
     "output_type": "execute_result"
    },
    {
     "data": {
      "image/png": "[encoded data removed]",
      "text/plain": [
       "<Figure size 720x288 with 2 Axes>"
      ]
     },
     "metadata": {
      "needs_background": "light"
     },
     "output_type": "display_data"
    }
   ],
   "source": [
    "# Visualizing the overall sentiment distribution\n",
    "import matplotlib.pyplot as plt\n",
    "fig, subPlot =plt.subplots(nrows=1, ncols=2, figsize=(10,4))\n",
    "fig.suptitle(\"Sentiment analysis of Indigo Tweets\")\n",
    "\n",
    "# Grouping the data\n",
    "GroupedData=IndigoTweets.groupby('Sentiment').size()\n",
    "\n",
    "# Creating the charts\n",
    "GroupedData.plot(kind='bar', ax=subPlot[0], color=['crimson', 'lightblue','yellowgreen'])\n",
    "GroupedData.plot(kind='pie', ax=subPlot[1], colors=['crimson', 'lightblue','yellowgreen'])"
   ]
  },
  {
   "cell_type": "code",
   "execution_count": null,
   "id": "c632bb0f-90f5-43f9-820b-b6f86a30fe8c",
   "metadata": {},
   "outputs": [],
   "source": []
  }
 ],
 "metadata": {
  "kernelspec": {
   "display_name": "Python 3",
   "language": "python",
   "name": "python3"
  },
  "language_info": {
   "codemirror_mode": {
    "name": "ipython",
    "version": 3
   },
   "file_extension": ".py",
   "mimetype": "text/x-python",
   "name": "python",
   "nbconvert_exporter": "python",
   "pygments_lexer": "ipython3",
   "version": "3.8.8"
  }
 },
 "nbformat": 4,
 "nbformat_minor": 5
}
